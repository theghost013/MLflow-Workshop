{
 "cells": [
  {
   "attachments": {},
   "cell_type": "markdown",
   "metadata": {},
   "source": [
    "## Setup Environment <br>\n",
    "\n",
    "Python 3.8 <br>\n",
    "Numpy: 1.23.0 <br>\n",
    "Pandas: 1.5.3 <br>\n",
    "matplotlib: 3.7.1 <br>\n",
    "seaborn: 0.10.1 <br>\n",
    "Scikit-Learn: 1.1.3 <br>\n",
    "MLFlow: 1.30.0 <br>"
   ]
  },
  {
   "cell_type": "code",
   "execution_count": null,
   "metadata": {},
   "outputs": [],
   "source": [
    "import numpy as np\n",
    "import pandas as pd\n",
    "import matplotlib  #\n",
    "import matplotlib.pyplot as plt\n",
    "import seaborn as sns\n",
    "import sklearn  #\n",
    "from sklearn.linear_model import LogisticRegression\n",
    "from sklearn.model_selection import train_test_split\n",
    "from sklearn.preprocessing import StandardScaler\n",
    "from sklearn.metrics import (\n",
    "    roc_auc_score,\n",
    "    RocCurveDisplay,\n",
    "    confusion_matrix,\n",
    ")\n",
    "from sklearn.model_selection import KFold\n",
    "import mlflow\n",
    "import mlflow.sklearn"
   ]
  },
  {
   "cell_type": "code",
   "execution_count": 37,
   "metadata": {},
   "outputs": [
    {
     "name": "stdout",
     "output_type": "stream",
     "text": [
      "Numpy: 1.26.4\n",
      "Pandas: 2.3.2\n",
      "matplotlib: 3.10.6\n",
      "seaborn: 0.13.2\n",
      "Scikit-Learn: 1.7.1\n",
      "MLFlow: 3.3.2\n"
     ]
    }
   ],
   "source": [
    "print(\"Numpy: {}\".format(np.__version__))\n",
    "print(\"Pandas: {}\".format(pd.__version__))\n",
    "print(\"matplotlib: {}\".format(matplotlib.__version__))\n",
    "print(\"seaborn: {}\".format(sns.__version__))\n",
    "print(\"Scikit-Learn: {}\".format(sklearn.__version__))\n",
    "print(\"MLFlow: {}\".format(mlflow.__version__))"
   ]
  },
  {
   "attachments": {},
   "cell_type": "markdown",
   "metadata": {},
   "source": [
    "### Load the Data"
   ]
  },
  {
   "cell_type": "markdown",
   "metadata": {},
   "source": [
    "Download the dataset from this link : https://www.kaggle.com/datasets/mlg-ulb/creditcardfraud"
   ]
  },
  {
   "cell_type": "code",
   "execution_count": 38,
   "metadata": {},
   "outputs": [],
   "source": [
    "data_path = \"creditcard.csv\"\n",
    "df = pd.read_csv(data_path)\n",
    "df = df.drop(\"Time\", axis=1)\n",
    "# remove time column since it was found that it is not helpful"
   ]
  },
  {
   "cell_type": "code",
   "execution_count": 39,
   "metadata": {},
   "outputs": [
    {
     "data": {
      "text/html": [
       "<div>\n",
       "<style scoped>\n",
       "    .dataframe tbody tr th:only-of-type {\n",
       "        vertical-align: middle;\n",
       "    }\n",
       "\n",
       "    .dataframe tbody tr th {\n",
       "        vertical-align: top;\n",
       "    }\n",
       "\n",
       "    .dataframe thead th {\n",
       "        text-align: right;\n",
       "    }\n",
       "</style>\n",
       "<table border=\"1\" class=\"dataframe\">\n",
       "  <thead>\n",
       "    <tr style=\"text-align: right;\">\n",
       "      <th></th>\n",
       "      <th>V1</th>\n",
       "      <th>V2</th>\n",
       "      <th>V3</th>\n",
       "      <th>V4</th>\n",
       "      <th>V5</th>\n",
       "      <th>V6</th>\n",
       "      <th>V7</th>\n",
       "      <th>V8</th>\n",
       "      <th>V9</th>\n",
       "      <th>V10</th>\n",
       "      <th>...</th>\n",
       "      <th>V21</th>\n",
       "      <th>V22</th>\n",
       "      <th>V23</th>\n",
       "      <th>V24</th>\n",
       "      <th>V25</th>\n",
       "      <th>V26</th>\n",
       "      <th>V27</th>\n",
       "      <th>V28</th>\n",
       "      <th>Amount</th>\n",
       "      <th>Class</th>\n",
       "    </tr>\n",
       "  </thead>\n",
       "  <tbody>\n",
       "    <tr>\n",
       "      <th>0</th>\n",
       "      <td>-1.359807</td>\n",
       "      <td>-0.072781</td>\n",
       "      <td>2.536347</td>\n",
       "      <td>1.378155</td>\n",
       "      <td>-0.338321</td>\n",
       "      <td>0.462388</td>\n",
       "      <td>0.239599</td>\n",
       "      <td>0.098698</td>\n",
       "      <td>0.363787</td>\n",
       "      <td>0.090794</td>\n",
       "      <td>...</td>\n",
       "      <td>-0.018307</td>\n",
       "      <td>0.277838</td>\n",
       "      <td>-0.110474</td>\n",
       "      <td>0.066928</td>\n",
       "      <td>0.128539</td>\n",
       "      <td>-0.189115</td>\n",
       "      <td>0.133558</td>\n",
       "      <td>-0.021053</td>\n",
       "      <td>149.62</td>\n",
       "      <td>0</td>\n",
       "    </tr>\n",
       "    <tr>\n",
       "      <th>1</th>\n",
       "      <td>1.191857</td>\n",
       "      <td>0.266151</td>\n",
       "      <td>0.166480</td>\n",
       "      <td>0.448154</td>\n",
       "      <td>0.060018</td>\n",
       "      <td>-0.082361</td>\n",
       "      <td>-0.078803</td>\n",
       "      <td>0.085102</td>\n",
       "      <td>-0.255425</td>\n",
       "      <td>-0.166974</td>\n",
       "      <td>...</td>\n",
       "      <td>-0.225775</td>\n",
       "      <td>-0.638672</td>\n",
       "      <td>0.101288</td>\n",
       "      <td>-0.339846</td>\n",
       "      <td>0.167170</td>\n",
       "      <td>0.125895</td>\n",
       "      <td>-0.008983</td>\n",
       "      <td>0.014724</td>\n",
       "      <td>2.69</td>\n",
       "      <td>0</td>\n",
       "    </tr>\n",
       "    <tr>\n",
       "      <th>2</th>\n",
       "      <td>-1.358354</td>\n",
       "      <td>-1.340163</td>\n",
       "      <td>1.773209</td>\n",
       "      <td>0.379780</td>\n",
       "      <td>-0.503198</td>\n",
       "      <td>1.800499</td>\n",
       "      <td>0.791461</td>\n",
       "      <td>0.247676</td>\n",
       "      <td>-1.514654</td>\n",
       "      <td>0.207643</td>\n",
       "      <td>...</td>\n",
       "      <td>0.247998</td>\n",
       "      <td>0.771679</td>\n",
       "      <td>0.909412</td>\n",
       "      <td>-0.689281</td>\n",
       "      <td>-0.327642</td>\n",
       "      <td>-0.139097</td>\n",
       "      <td>-0.055353</td>\n",
       "      <td>-0.059752</td>\n",
       "      <td>378.66</td>\n",
       "      <td>0</td>\n",
       "    </tr>\n",
       "    <tr>\n",
       "      <th>3</th>\n",
       "      <td>-0.966272</td>\n",
       "      <td>-0.185226</td>\n",
       "      <td>1.792993</td>\n",
       "      <td>-0.863291</td>\n",
       "      <td>-0.010309</td>\n",
       "      <td>1.247203</td>\n",
       "      <td>0.237609</td>\n",
       "      <td>0.377436</td>\n",
       "      <td>-1.387024</td>\n",
       "      <td>-0.054952</td>\n",
       "      <td>...</td>\n",
       "      <td>-0.108300</td>\n",
       "      <td>0.005274</td>\n",
       "      <td>-0.190321</td>\n",
       "      <td>-1.175575</td>\n",
       "      <td>0.647376</td>\n",
       "      <td>-0.221929</td>\n",
       "      <td>0.062723</td>\n",
       "      <td>0.061458</td>\n",
       "      <td>123.50</td>\n",
       "      <td>0</td>\n",
       "    </tr>\n",
       "    <tr>\n",
       "      <th>4</th>\n",
       "      <td>-1.158233</td>\n",
       "      <td>0.877737</td>\n",
       "      <td>1.548718</td>\n",
       "      <td>0.403034</td>\n",
       "      <td>-0.407193</td>\n",
       "      <td>0.095921</td>\n",
       "      <td>0.592941</td>\n",
       "      <td>-0.270533</td>\n",
       "      <td>0.817739</td>\n",
       "      <td>0.753074</td>\n",
       "      <td>...</td>\n",
       "      <td>-0.009431</td>\n",
       "      <td>0.798278</td>\n",
       "      <td>-0.137458</td>\n",
       "      <td>0.141267</td>\n",
       "      <td>-0.206010</td>\n",
       "      <td>0.502292</td>\n",
       "      <td>0.219422</td>\n",
       "      <td>0.215153</td>\n",
       "      <td>69.99</td>\n",
       "      <td>0</td>\n",
       "    </tr>\n",
       "  </tbody>\n",
       "</table>\n",
       "<p>5 rows × 30 columns</p>\n",
       "</div>"
      ],
      "text/plain": [
       "         V1        V2        V3        V4        V5        V6        V7  \\\n",
       "0 -1.359807 -0.072781  2.536347  1.378155 -0.338321  0.462388  0.239599   \n",
       "1  1.191857  0.266151  0.166480  0.448154  0.060018 -0.082361 -0.078803   \n",
       "2 -1.358354 -1.340163  1.773209  0.379780 -0.503198  1.800499  0.791461   \n",
       "3 -0.966272 -0.185226  1.792993 -0.863291 -0.010309  1.247203  0.237609   \n",
       "4 -1.158233  0.877737  1.548718  0.403034 -0.407193  0.095921  0.592941   \n",
       "\n",
       "         V8        V9       V10  ...       V21       V22       V23       V24  \\\n",
       "0  0.098698  0.363787  0.090794  ... -0.018307  0.277838 -0.110474  0.066928   \n",
       "1  0.085102 -0.255425 -0.166974  ... -0.225775 -0.638672  0.101288 -0.339846   \n",
       "2  0.247676 -1.514654  0.207643  ...  0.247998  0.771679  0.909412 -0.689281   \n",
       "3  0.377436 -1.387024 -0.054952  ... -0.108300  0.005274 -0.190321 -1.175575   \n",
       "4 -0.270533  0.817739  0.753074  ... -0.009431  0.798278 -0.137458  0.141267   \n",
       "\n",
       "        V25       V26       V27       V28  Amount  Class  \n",
       "0  0.128539 -0.189115  0.133558 -0.021053  149.62      0  \n",
       "1  0.167170  0.125895 -0.008983  0.014724    2.69      0  \n",
       "2 -0.327642 -0.139097 -0.055353 -0.059752  378.66      0  \n",
       "3  0.647376 -0.221929  0.062723  0.061458  123.50      0  \n",
       "4 -0.206010  0.502292  0.219422  0.215153   69.99      0  \n",
       "\n",
       "[5 rows x 30 columns]"
      ]
     },
     "execution_count": 39,
     "metadata": {},
     "output_type": "execute_result"
    }
   ],
   "source": [
    "df.head()"
   ]
  },
  {
   "attachments": {},
   "cell_type": "markdown",
   "metadata": {},
   "source": [
    "## Data Preparation"
   ]
  },
  {
   "attachments": {},
   "cell_type": "markdown",
   "metadata": {},
   "source": [
    "#### Split data to normal and anomaly"
   ]
  },
  {
   "cell_type": "code",
   "execution_count": 40,
   "metadata": {},
   "outputs": [],
   "source": [
    "normal = df[df.Class == 0].sample(frac=0.5, random_state=2020).reset_index(drop=True) \n",
    "anomaly = df[df.Class == 1]"
   ]
  },
  {
   "cell_type": "code",
   "execution_count": 41,
   "metadata": {},
   "outputs": [
    {
     "name": "stdout",
     "output_type": "stream",
     "text": [
      "Normal: (142158, 30)\n",
      "Anomaly: (492, 30)\n"
     ]
    }
   ],
   "source": [
    "print(f\"Normal: {normal.shape}\")\n",
    "print(f\"Anomaly: {anomaly.shape}\")"
   ]
  },
  {
   "attachments": {},
   "cell_type": "markdown",
   "metadata": {},
   "source": [
    "#### Split into train/ dev/ test sets"
   ]
  },
  {
   "cell_type": "code",
   "execution_count": 42,
   "metadata": {},
   "outputs": [],
   "source": [
    "normal_train, normal_test = train_test_split(normal, test_size = 0.2, random_state = 2020)\n",
    "anomaly_train, anomaly_test = train_test_split(anomaly, test_size = 0.2, random_state = 2020)\n",
    "normal_train, normal_validate = train_test_split(normal_train,test_size = 0.25, random_state = 2020)\n",
    "anomaly_train, anomaly_validate = train_test_split(anomaly_train, test_size = 0.25, random_state = 2020)\n"
   ]
  },
  {
   "attachments": {},
   "cell_type": "markdown",
   "metadata": {},
   "source": [
    "#### Concatenate set to creates X-Y sets"
   ]
  },
  {
   "cell_type": "code",
   "execution_count": 43,
   "metadata": {},
   "outputs": [],
   "source": [
    "x_train = pd.concat((normal_train, anomaly_train))\n",
    "x_test = pd.concat((normal_test, anomaly_test))\n",
    "x_validate = pd.concat((normal_validate,anomaly_validate))\n",
    "\n",
    "y_train = np.array(x_train[\"Class\"])\n",
    "y_test = np.array(x_test[\"Class\"])\n",
    "y_validate = np.array(x_validate[\"Class\"])\n",
    "\n",
    "x_train = x_train.drop(\"Class\", axis=1)\n",
    "x_test = x_test.drop(\"Class\", axis=1)\n",
    "x_validate = x_validate.drop(\"Class\", axis=1)\n"
   ]
  },
  {
   "cell_type": "code",
   "execution_count": 44,
   "metadata": {},
   "outputs": [
    {
     "name": "stdout",
     "output_type": "stream",
     "text": [
      "Training sets:\n",
      "x_train: (85588, 29) \n",
      "y_train:(85588,)\n",
      "\n",
      "Testing sets:\n",
      "x_test: (28531, 29) \n",
      "y_test:(28531,)\n",
      "\n",
      "Validation sets:\n",
      "x_validate: (28531, 29) \n",
      "y_validate: (28531,)\n"
     ]
    }
   ],
   "source": [
    "print(\"Training sets:\\nx_train: {} \\ny_train:{}\".format(x_train.shape, y_train.shape))\n",
    "print(\"\\nTesting sets:\\nx_test: {} \\ny_test:{}\".format(x_test.shape, y_test.shape))\n",
    "print(\"\\nValidation sets:\\nx_validate: {} \\ny_validate: {}\".format(x_validate.shape, y_validate.shape))"
   ]
  },
  {
   "attachments": {},
   "cell_type": "markdown",
   "metadata": {},
   "source": [
    "#### Scale the data"
   ]
  },
  {
   "cell_type": "code",
   "execution_count": 45,
   "metadata": {},
   "outputs": [],
   "source": [
    "scaler = StandardScaler()\n",
    "scaler.fit(pd.concat((normal, anomaly)).drop(\"Class\", axis=1))\n",
    "x_train = scaler.transform(x_train)\n",
    "x_test = scaler.transform(x_test)\n",
    "x_validate = scaler.transform(x_validate)"
   ]
  },
  {
   "attachments": {},
   "cell_type": "markdown",
   "metadata": {},
   "source": [
    "## Train and Evaluate"
   ]
  },
  {
   "attachments": {},
   "cell_type": "markdown",
   "metadata": {},
   "source": [
    "Train function"
   ]
  },
  {
   "cell_type": "code",
   "execution_count": 46,
   "metadata": {},
   "outputs": [],
   "source": [
    "def train(sk_model, x_train, y_train): \n",
    "    sk_model = sk_model.fit(x_train, y_train)\n",
    "    train_acc = sk_model.score(x_train, y_train)\n",
    "    mlflow.log_metric(\"train_acc\", train_acc)\n",
    "    print(f\"Train Accuracy: {train_acc:.3%}\")"
   ]
  },
  {
   "attachments": {},
   "cell_type": "markdown",
   "metadata": {},
   "source": [
    "Evaluate function"
   ]
  },
  {
   "cell_type": "code",
   "execution_count": 55,
   "metadata": {},
   "outputs": [],
   "source": [
    "def evaluate(sk_model, x_test, y_test):\n",
    "    eval_acc = sk_model.score(x_test, y_test)\n",
    "    preds = sk_model.predict(x_test)\n",
    "    auc_score = roc_auc_score(y_test, preds)\n",
    "    # ask MLFlow to log two more metrics\n",
    "    mlflow.log_metric(\"eval_acc\", eval_acc)\n",
    "    mlflow.log_metric(\"auc_score\", auc_score)\n",
    "    print(f\"Auc Score: {auc_score:.3%}\")\n",
    "    print(f\"Eval Accuracy: {eval_acc:.3%}\")\n",
    "    roc_plot = RocCurveDisplay.from_estimator(\n",
    "        sk_model, x_test, y_test, name=\"Scikit-learn ROC Curve\"\n",
    "    )\n",
    "    plt.savefig(\"sklearn_roc_plot.png\")\n",
    "    plt.show()\n",
    "    plt.clf()\n",
    "\n",
    "    conf_matrix = confusion_matrix(y_test, preds)\n",
    "\n",
    "    ax = sns.heatmap(conf_matrix, annot=True,fmt='g') \n",
    "    ax.invert_xaxis()\n",
    "    ax.invert_yaxis()\n",
    "    plt.ylabel('Actual')\n",
    "    plt.xlabel('Predicted')\n",
    "    plt.title(\"Confusion Matrix\") \n",
    "    plt.savefig(\"sklearn_conf_matrix.png\")\n",
    "    # save the plots generated by matplotlib and by seaborn.\n",
    "    mlflow.log_artifact(\"sklearn_roc_plot.png\")\n",
    "    mlflow.log_artifact(\"sklearn_conf_matrix.png\")"
   ]
  },
  {
   "attachments": {},
   "cell_type": "markdown",
   "metadata": {},
   "source": [
    "## Log and View MLFlow Runs"
   ]
  },
  {
   "cell_type": "code",
   "execution_count": 56,
   "metadata": {},
   "outputs": [],
   "source": [
    "sk_model = LogisticRegression(random_state=None, max_iter=400, solver='newton-cg')"
   ]
  },
  {
   "cell_type": "code",
   "execution_count": 58,
   "metadata": {},
   "outputs": [
    {
     "name": "stdout",
     "output_type": "stream",
     "text": [
      "Train Accuracy: 99.894%\n",
      "Auc Score: 85.341%\n",
      "Eval Accuracy: 99.874%\n"
     ]
    },
    {
     "data": {
      "image/png": "[encoded data removed]",
      "text/plain": [
       "<Figure size 640x480 with 1 Axes>"
      ]
     },
     "metadata": {},
     "output_type": "display_data"
    },
    {
     "name": "stderr",
     "output_type": "stream",
     "text": [
      "2025/09/02 15:57:37 WARNING mlflow.models.model: `artifact_path` is deprecated. Please use `name` instead.\n",
      "\u001b[31m2025/09/02 15:57:39 WARNING mlflow.models.model: Model logged without a signature and input example. Please set `input_example` parameter when logging the model to auto infer the model signature.\u001b[0m\n"
     ]
    },
    {
     "name": "stdout",
     "output_type": "stream",
     "text": [
      "Model run:  5f907a19d96d4bfa8e9683ae326b7c11\n",
      "🏃 View run useful-grouse-760 at: http://localhost:8080/#/experiments/981683332771131539/runs/5f907a19d96d4bfa8e9683ae326b7c11\n",
      "🧪 View experiment at: http://localhost:8080/#/experiments/981683332771131539\n"
     ]
    },
    {
     "data": {
      "image/png": "[encoded data removed]",
      "text/plain": [
       "<Figure size 640x480 with 2 Axes>"
      ]
     },
     "metadata": {},
     "output_type": "display_data"
    }
   ],
   "source": [
    "# puts the run under experiment name\n",
    "mlflow.set_tracking_uri(\"http://localhost:8080\")\n",
    "mlflow.set_experiment(\"Credit_Card_Fraud_experiment\") \n",
    "\n",
    "# chunk all code under the context of one MLFlow run.\n",
    "with mlflow.start_run():\n",
    "    train(sk_model, x_train, y_train)\n",
    "    evaluate(sk_model, x_test, y_test)\n",
    "    # save the model\n",
    "    mlflow.sklearn.log_model(sk_model, \"log_reg_model\")\n",
    "    print(\"Model run: \", mlflow.active_run().info.run_id)\n",
    "mlflow.end_run()"
   ]
  },
  {
   "attachments": {},
   "cell_type": "markdown",
   "metadata": {},
   "source": [
    "On terminal, write: mlflow ui -p 1234\n",
    "so you can access mlflow UI\n",
    "\n",
    "and then go to 127.0.0.1:1234"
   ]
  },
  {
   "attachments": {},
   "cell_type": "markdown",
   "metadata": {},
   "source": [
    "## Loading a Logged Model"
   ]
  },
  {
   "cell_type": "code",
   "execution_count": 60,
   "metadata": {},
   "outputs": [],
   "source": [
    "loaded_model = mlflow.sklearn.load_model(\n",
    "    \"runs:/5f907a19d96d4bfa8e9683ae326b7c11/log_reg_model\"\n",
    ")"
   ]
  },
  {
   "cell_type": "code",
   "execution_count": 61,
   "metadata": {},
   "outputs": [
    {
     "data": {
      "text/plain": [
       "0.9987382145736217"
      ]
     },
     "execution_count": 61,
     "metadata": {},
     "output_type": "execute_result"
    }
   ],
   "source": [
    "loaded_model.score(x_test, y_test)"
   ]
  },
  {
   "attachments": {},
   "cell_type": "markdown",
   "metadata": {},
   "source": [
    "## MLFlow Parameter Tuning"
   ]
  },
  {
   "attachments": {},
   "cell_type": "markdown",
   "metadata": {},
   "source": [
    "### Broad Search"
   ]
  },
  {
   "cell_type": "code",
   "execution_count": 62,
   "metadata": {},
   "outputs": [],
   "source": [
    "anomaly_weights = [1, 5, 10, 15]\n",
    "num_folds = 5\n",
    "kfold = KFold(n_splits=num_folds, shuffle=True, random_state=2020)"
   ]
  },
  {
   "cell_type": "code",
   "execution_count": 63,
   "metadata": {},
   "outputs": [
    {
     "name": "stderr",
     "output_type": "stream",
     "text": [
      "2025/09/02 15:59:03 INFO mlflow.tracking.fluent: Experiment with name 'sklearn_creditcard_broad_search' does not exist. Creating a new experiment.\n"
     ]
    },
    {
     "name": "stdout",
     "output_type": "stream",
     "text": [
      "----------------------------------------\n",
      "fold 1\n",
      "Anomaly Weight: 1\n"
     ]
    },
    {
     "name": "stderr",
     "output_type": "stream",
     "text": [
      "2025/09/02 15:59:04 WARNING mlflow.models.model: `artifact_path` is deprecated. Please use `name` instead.\n"
     ]
    },
    {
     "name": "stdout",
     "output_type": "stream",
     "text": [
      "AUC: 0.8\n",
      "eval_acc: 0.9985982127212195\n"
     ]
    },
    {
     "name": "stderr",
     "output_type": "stream",
     "text": [
      "\u001b[31m2025/09/02 15:59:06 WARNING mlflow.models.model: Model logged without a signature and input example. Please set `input_example` parameter when logging the model to auto infer the model signature.\u001b[0m\n"
     ]
    },
    {
     "name": "stdout",
     "output_type": "stream",
     "text": [
      "🏃 View run nimble-shoat-284 at: http://localhost:8080/#/experiments/674565971350552763/runs/32e84940a08d4fa9b561fdfd2073f5b6\n",
      "🧪 View experiment at: http://localhost:8080/#/experiments/674565971350552763\n",
      "----------------------------------------\n",
      "fold 2\n",
      "Anomaly Weight: 1\n"
     ]
    },
    {
     "name": "stderr",
     "output_type": "stream",
     "text": [
      "2025/09/02 15:59:07 WARNING mlflow.models.model: `artifact_path` is deprecated. Please use `name` instead.\n"
     ]
    },
    {
     "name": "stdout",
     "output_type": "stream",
     "text": [
      "AUC: 0.8568790049001132\n",
      "eval_acc: 0.998422712933754\n"
     ]
    },
    {
     "name": "stderr",
     "output_type": "stream",
     "text": [
      "\u001b[31m2025/09/02 15:59:09 WARNING mlflow.models.model: Model logged without a signature and input example. Please set `input_example` parameter when logging the model to auto infer the model signature.\u001b[0m\n"
     ]
    },
    {
     "name": "stdout",
     "output_type": "stream",
     "text": [
      "🏃 View run likeable-boar-351 at: http://localhost:8080/#/experiments/674565971350552763/runs/f9cf472c5d5a47fba1b43d1befb12959\n",
      "🧪 View experiment at: http://localhost:8080/#/experiments/674565971350552763\n",
      "----------------------------------------\n",
      "fold 3\n",
      "Anomaly Weight: 1\n"
     ]
    },
    {
     "name": "stderr",
     "output_type": "stream",
     "text": [
      "2025/09/02 15:59:10 WARNING mlflow.models.model: `artifact_path` is deprecated. Please use `name` instead.\n"
     ]
    },
    {
     "name": "stdout",
     "output_type": "stream",
     "text": [
      "AUC: 0.8406451922461774\n",
      "eval_acc: 0.9982474588152822\n"
     ]
    },
    {
     "name": "stderr",
     "output_type": "stream",
     "text": [
      "\u001b[31m2025/09/02 15:59:11 WARNING mlflow.models.model: Model logged without a signature and input example. Please set `input_example` parameter when logging the model to auto infer the model signature.\u001b[0m\n"
     ]
    },
    {
     "name": "stdout",
     "output_type": "stream",
     "text": [
      "🏃 View run welcoming-shad-1000 at: http://localhost:8080/#/experiments/674565971350552763/runs/914f0ea5bb624b1a9a4cb98cad0e9c90\n",
      "🧪 View experiment at: http://localhost:8080/#/experiments/674565971350552763\n",
      "----------------------------------------\n",
      "fold 4\n",
      "Anomaly Weight: 1\n"
     ]
    },
    {
     "name": "stderr",
     "output_type": "stream",
     "text": [
      "2025/09/02 15:59:12 WARNING mlflow.models.model: `artifact_path` is deprecated. Please use `name` instead.\n"
     ]
    },
    {
     "name": "stdout",
     "output_type": "stream",
     "text": [
      "AUC: 0.8682452129973255\n",
      "eval_acc: 0.9987732211706976\n"
     ]
    },
    {
     "name": "stderr",
     "output_type": "stream",
     "text": [
      "\u001b[31m2025/09/02 15:59:14 WARNING mlflow.models.model: Model logged without a signature and input example. Please set `input_example` parameter when logging the model to auto infer the model signature.\u001b[0m\n"
     ]
    },
    {
     "name": "stdout",
     "output_type": "stream",
     "text": [
      "🏃 View run rare-squirrel-96 at: http://localhost:8080/#/experiments/674565971350552763/runs/fb19c9711a864371b08fc36e8466c16b\n",
      "🧪 View experiment at: http://localhost:8080/#/experiments/674565971350552763\n",
      "----------------------------------------\n",
      "fold 5\n",
      "Anomaly Weight: 1\n"
     ]
    },
    {
     "name": "stderr",
     "output_type": "stream",
     "text": [
      "2025/09/02 15:59:15 WARNING mlflow.models.model: `artifact_path` is deprecated. Please use `name` instead.\n"
     ]
    },
    {
     "name": "stdout",
     "output_type": "stream",
     "text": [
      "AUC: 0.8528532875621686\n",
      "eval_acc: 0.9989484752891693\n"
     ]
    },
    {
     "name": "stderr",
     "output_type": "stream",
     "text": [
      "\u001b[31m2025/09/02 15:59:17 WARNING mlflow.models.model: Model logged without a signature and input example. Please set `input_example` parameter when logging the model to auto infer the model signature.\u001b[0m\n"
     ]
    },
    {
     "name": "stdout",
     "output_type": "stream",
     "text": [
      "🏃 View run kindly-gnat-938 at: http://localhost:8080/#/experiments/674565971350552763/runs/ad8e372b22564d5db569c947d12033d9\n",
      "🧪 View experiment at: http://localhost:8080/#/experiments/674565971350552763\n",
      "\n",
      "Averages: \n",
      "Accuracy:  0.9985980161860246\n",
      "AUC:  0.8437245395411569\n",
      "Best: \n",
      "Accuracy:  0.9989484752891693\n",
      "AUC:  0.8682452129973255\n",
      "----------------------------------------\n",
      "fold 1\n",
      "Anomaly Weight: 5\n"
     ]
    },
    {
     "name": "stderr",
     "output_type": "stream",
     "text": [
      "2025/09/02 15:59:18 WARNING mlflow.models.model: `artifact_path` is deprecated. Please use `name` instead.\n"
     ]
    },
    {
     "name": "stdout",
     "output_type": "stream",
     "text": [
      "AUC: 0.8748241603657465\n",
      "eval_acc: 0.9987734361310671\n"
     ]
    },
    {
     "name": "stderr",
     "output_type": "stream",
     "text": [
      "\u001b[31m2025/09/02 15:59:20 WARNING mlflow.models.model: Model logged without a signature and input example. Please set `input_example` parameter when logging the model to auto infer the model signature.\u001b[0m\n"
     ]
    },
    {
     "name": "stdout",
     "output_type": "stream",
     "text": [
      "🏃 View run hilarious-squid-990 at: http://localhost:8080/#/experiments/674565971350552763/runs/54cdb9b13373497fa8def5c2f89f4b42\n",
      "🧪 View experiment at: http://localhost:8080/#/experiments/674565971350552763\n",
      "----------------------------------------\n",
      "fold 2\n",
      "Anomaly Weight: 5\n"
     ]
    },
    {
     "name": "stderr",
     "output_type": "stream",
     "text": [
      "2025/09/02 15:59:21 WARNING mlflow.models.model: `artifact_path` is deprecated. Please use `name` instead.\n"
     ]
    },
    {
     "name": "stdout",
     "output_type": "stream",
     "text": [
      "AUC: 0.975398919462244\n",
      "eval_acc: 0.9982474588152822\n"
     ]
    },
    {
     "name": "stderr",
     "output_type": "stream",
     "text": [
      "\u001b[31m2025/09/02 15:59:23 WARNING mlflow.models.model: Model logged without a signature and input example. Please set `input_example` parameter when logging the model to auto infer the model signature.\u001b[0m\n"
     ]
    },
    {
     "name": "stdout",
     "output_type": "stream",
     "text": [
      "🏃 View run likeable-shoat-709 at: http://localhost:8080/#/experiments/674565971350552763/runs/23703423d94d4efbaa81821d92406c3f\n",
      "🧪 View experiment at: http://localhost:8080/#/experiments/674565971350552763\n",
      "----------------------------------------\n",
      "fold 3\n",
      "Anomaly Weight: 5\n"
     ]
    },
    {
     "name": "stderr",
     "output_type": "stream",
     "text": [
      "2025/09/02 15:59:24 WARNING mlflow.models.model: `artifact_path` is deprecated. Please use `name` instead.\n"
     ]
    },
    {
     "name": "stdout",
     "output_type": "stream",
     "text": [
      "AUC: 0.9314663169342972\n",
      "eval_acc: 0.9987732211706976\n"
     ]
    },
    {
     "name": "stderr",
     "output_type": "stream",
     "text": [
      "\u001b[31m2025/09/02 15:59:25 WARNING mlflow.models.model: Model logged without a signature and input example. Please set `input_example` parameter when logging the model to auto infer the model signature.\u001b[0m\n"
     ]
    },
    {
     "name": "stdout",
     "output_type": "stream",
     "text": [
      "🏃 View run adorable-ray-401 at: http://localhost:8080/#/experiments/674565971350552763/runs/882470489a31407d90d0c842bb2bc0f0\n",
      "🧪 View experiment at: http://localhost:8080/#/experiments/674565971350552763\n",
      "----------------------------------------\n",
      "fold 4\n",
      "Anomaly Weight: 5\n"
     ]
    },
    {
     "name": "stderr",
     "output_type": "stream",
     "text": [
      "2025/09/02 15:59:26 WARNING mlflow.models.model: `artifact_path` is deprecated. Please use `name` instead.\n"
     ]
    },
    {
     "name": "stdout",
     "output_type": "stream",
     "text": [
      "AUC: 0.8943851628367561\n",
      "eval_acc: 0.9985979670522257\n"
     ]
    },
    {
     "name": "stderr",
     "output_type": "stream",
     "text": [
      "\u001b[31m2025/09/02 15:59:28 WARNING mlflow.models.model: Model logged without a signature and input example. Please set `input_example` parameter when logging the model to auto infer the model signature.\u001b[0m\n"
     ]
    },
    {
     "name": "stdout",
     "output_type": "stream",
     "text": [
      "🏃 View run crawling-frog-401 at: http://localhost:8080/#/experiments/674565971350552763/runs/d663e79db87c43c19b35c4b4d72aab6c\n",
      "🧪 View experiment at: http://localhost:8080/#/experiments/674565971350552763\n",
      "----------------------------------------\n",
      "fold 5\n",
      "Anomaly Weight: 5\n"
     ]
    },
    {
     "name": "stderr",
     "output_type": "stream",
     "text": [
      "2025/09/02 15:59:29 WARNING mlflow.models.model: `artifact_path` is deprecated. Please use `name` instead.\n"
     ]
    },
    {
     "name": "stdout",
     "output_type": "stream",
     "text": [
      "AUC: 0.8820013855427915\n",
      "eval_acc: 0.9985979670522257\n"
     ]
    },
    {
     "name": "stderr",
     "output_type": "stream",
     "text": [
      "\u001b[31m2025/09/02 15:59:31 WARNING mlflow.models.model: Model logged without a signature and input example. Please set `input_example` parameter when logging the model to auto infer the model signature.\u001b[0m\n"
     ]
    },
    {
     "name": "stdout",
     "output_type": "stream",
     "text": [
      "🏃 View run smiling-swan-183 at: http://localhost:8080/#/experiments/674565971350552763/runs/e25f8c426b9746df924c1551427ef1c7\n",
      "🧪 View experiment at: http://localhost:8080/#/experiments/674565971350552763\n",
      "\n",
      "Averages: \n",
      "Accuracy:  0.9985980100442996\n",
      "AUC:  0.9116151890283671\n",
      "Best: \n",
      "Accuracy:  0.9987734361310671\n",
      "AUC:  0.975398919462244\n",
      "----------------------------------------\n",
      "fold 1\n",
      "Anomaly Weight: 10\n"
     ]
    },
    {
     "name": "stderr",
     "output_type": "stream",
     "text": [
      "2025/09/02 15:59:32 WARNING mlflow.models.model: `artifact_path` is deprecated. Please use `name` instead.\n"
     ]
    },
    {
     "name": "stdout",
     "output_type": "stream",
     "text": [
      "AUC: 0.9243845612801126\n",
      "eval_acc: 0.9982477659015244\n"
     ]
    },
    {
     "name": "stderr",
     "output_type": "stream",
     "text": [
      "\u001b[31m2025/09/02 15:59:34 WARNING mlflow.models.model: Model logged without a signature and input example. Please set `input_example` parameter when logging the model to auto infer the model signature.\u001b[0m\n"
     ]
    },
    {
     "name": "stdout",
     "output_type": "stream",
     "text": [
      "🏃 View run ambitious-steed-791 at: http://localhost:8080/#/experiments/674565971350552763/runs/aa373bb1a50047eca8139c3bbdfaa574\n",
      "🧪 View experiment at: http://localhost:8080/#/experiments/674565971350552763\n",
      "----------------------------------------\n",
      "fold 2\n",
      "Anomaly Weight: 10\n"
     ]
    },
    {
     "name": "stderr",
     "output_type": "stream",
     "text": [
      "2025/09/02 15:59:35 WARNING mlflow.models.model: `artifact_path` is deprecated. Please use `name` instead.\n"
     ]
    },
    {
     "name": "stdout",
     "output_type": "stream",
     "text": [
      "AUC: 0.9753109687146626\n",
      "eval_acc: 0.9980722046968104\n"
     ]
    },
    {
     "name": "stderr",
     "output_type": "stream",
     "text": [
      "\u001b[31m2025/09/02 15:59:36 WARNING mlflow.models.model: Model logged without a signature and input example. Please set `input_example` parameter when logging the model to auto infer the model signature.\u001b[0m\n"
     ]
    },
    {
     "name": "stdout",
     "output_type": "stream",
     "text": [
      "🏃 View run useful-trout-875 at: http://localhost:8080/#/experiments/674565971350552763/runs/383d6ccacfde49db9fa69f3918e5c5b3\n",
      "🧪 View experiment at: http://localhost:8080/#/experiments/674565971350552763\n",
      "----------------------------------------\n",
      "fold 3\n",
      "Anomaly Weight: 10\n"
     ]
    },
    {
     "name": "stderr",
     "output_type": "stream",
     "text": [
      "2025/09/02 15:59:37 WARNING mlflow.models.model: `artifact_path` is deprecated. Please use `name` instead.\n"
     ]
    },
    {
     "name": "stdout",
     "output_type": "stream",
     "text": [
      "AUC: 0.9313783507133262\n",
      "eval_acc: 0.9985979670522257\n"
     ]
    },
    {
     "name": "stderr",
     "output_type": "stream",
     "text": [
      "\u001b[31m2025/09/02 15:59:39 WARNING mlflow.models.model: Model logged without a signature and input example. Please set `input_example` parameter when logging the model to auto infer the model signature.\u001b[0m\n"
     ]
    },
    {
     "name": "stdout",
     "output_type": "stream",
     "text": [
      "🏃 View run trusting-deer-632 at: http://localhost:8080/#/experiments/674565971350552763/runs/3d230dc683f841678054feddbff6be34\n",
      "🧪 View experiment at: http://localhost:8080/#/experiments/674565971350552763\n",
      "----------------------------------------\n",
      "fold 4\n",
      "Anomaly Weight: 10\n"
     ]
    },
    {
     "name": "stderr",
     "output_type": "stream",
     "text": [
      "2025/09/02 15:59:40 WARNING mlflow.models.model: `artifact_path` is deprecated. Please use `name` instead.\n"
     ]
    },
    {
     "name": "stdout",
     "output_type": "stream",
     "text": [
      "AUC: 0.8943851628367561\n",
      "eval_acc: 0.9985979670522257\n"
     ]
    },
    {
     "name": "stderr",
     "output_type": "stream",
     "text": [
      "\u001b[31m2025/09/02 15:59:42 WARNING mlflow.models.model: Model logged without a signature and input example. Please set `input_example` parameter when logging the model to auto infer the model signature.\u001b[0m\n"
     ]
    },
    {
     "name": "stdout",
     "output_type": "stream",
     "text": [
      "🏃 View run auspicious-bass-407 at: http://localhost:8080/#/experiments/674565971350552763/runs/d6389320d86645c48761ee730f667ee4\n",
      "🧪 View experiment at: http://localhost:8080/#/experiments/674565971350552763\n",
      "----------------------------------------\n",
      "fold 5\n",
      "Anomaly Weight: 10\n"
     ]
    },
    {
     "name": "stderr",
     "output_type": "stream",
     "text": [
      "2025/09/02 15:59:43 WARNING mlflow.models.model: `artifact_path` is deprecated. Please use `name` instead.\n"
     ]
    },
    {
     "name": "stdout",
     "output_type": "stream",
     "text": [
      "AUC: 0.8820013855427915\n",
      "eval_acc: 0.9985979670522257\n"
     ]
    },
    {
     "name": "stderr",
     "output_type": "stream",
     "text": [
      "\u001b[31m2025/09/02 15:59:45 WARNING mlflow.models.model: Model logged without a signature and input example. Please set `input_example` parameter when logging the model to auto infer the model signature.\u001b[0m\n"
     ]
    },
    {
     "name": "stdout",
     "output_type": "stream",
     "text": [
      "🏃 View run adaptable-perch-0 at: http://localhost:8080/#/experiments/674565971350552763/runs/648fb102f0ab4f61b1799d4d3e163219\n",
      "🧪 View experiment at: http://localhost:8080/#/experiments/674565971350552763\n",
      "\n",
      "Averages: \n",
      "Accuracy:  0.9984227743510024\n",
      "AUC:  0.9214920858175297\n",
      "Best: \n",
      "Accuracy:  0.9985979670522257\n",
      "AUC:  0.9753109687146626\n",
      "----------------------------------------\n",
      "fold 1\n",
      "Anomaly Weight: 15\n"
     ]
    },
    {
     "name": "stderr",
     "output_type": "stream",
     "text": [
      "2025/09/02 15:59:46 WARNING mlflow.models.model: `artifact_path` is deprecated. Please use `name` instead.\n"
     ]
    },
    {
     "name": "stdout",
     "output_type": "stream",
     "text": [
      "AUC: 0.9242966414629858\n",
      "eval_acc: 0.9980725424916769\n"
     ]
    },
    {
     "name": "stderr",
     "output_type": "stream",
     "text": [
      "\u001b[31m2025/09/02 15:59:48 WARNING mlflow.models.model: Model logged without a signature and input example. Please set `input_example` parameter when logging the model to auto infer the model signature.\u001b[0m\n"
     ]
    },
    {
     "name": "stdout",
     "output_type": "stream",
     "text": [
      "🏃 View run hilarious-horse-986 at: http://localhost:8080/#/experiments/674565971350552763/runs/5703397080a14b4bb80af7ac334c1138\n",
      "🧪 View experiment at: http://localhost:8080/#/experiments/674565971350552763\n",
      "----------------------------------------\n",
      "fold 2\n",
      "Anomaly Weight: 15\n"
     ]
    },
    {
     "name": "stderr",
     "output_type": "stream",
     "text": [
      "2025/09/02 15:59:49 WARNING mlflow.models.model: `artifact_path` is deprecated. Please use `name` instead.\n"
     ]
    },
    {
     "name": "stdout",
     "output_type": "stream",
     "text": [
      "AUC: 0.9751350672194998\n",
      "eval_acc: 0.9977216964598669\n"
     ]
    },
    {
     "name": "stderr",
     "output_type": "stream",
     "text": [
      "\u001b[31m2025/09/02 15:59:51 WARNING mlflow.models.model: Model logged without a signature and input example. Please set `input_example` parameter when logging the model to auto infer the model signature.\u001b[0m\n"
     ]
    },
    {
     "name": "stdout",
     "output_type": "stream",
     "text": [
      "🏃 View run serious-roo-226 at: http://localhost:8080/#/experiments/674565971350552763/runs/5ea04631d73b4725a2336c4b32b2c0ce\n",
      "🧪 View experiment at: http://localhost:8080/#/experiments/674565971350552763\n",
      "----------------------------------------\n",
      "fold 3\n",
      "Anomaly Weight: 15\n"
     ]
    },
    {
     "name": "stderr",
     "output_type": "stream",
     "text": [
      "2025/09/02 15:59:52 WARNING mlflow.models.model: `artifact_path` is deprecated. Please use `name` instead.\n"
     ]
    },
    {
     "name": "stdout",
     "output_type": "stream",
     "text": [
      "AUC: 0.9312903844923551\n",
      "eval_acc: 0.998422712933754\n"
     ]
    },
    {
     "name": "stderr",
     "output_type": "stream",
     "text": [
      "\u001b[31m2025/09/02 15:59:54 WARNING mlflow.models.model: Model logged without a signature and input example. Please set `input_example` parameter when logging the model to auto infer the model signature.\u001b[0m\n"
     ]
    },
    {
     "name": "stdout",
     "output_type": "stream",
     "text": [
      "🏃 View run fortunate-bat-946 at: http://localhost:8080/#/experiments/674565971350552763/runs/4abd4fd55fff4e63bb69239b18aec4a8\n",
      "🧪 View experiment at: http://localhost:8080/#/experiments/674565971350552763\n",
      "----------------------------------------\n",
      "fold 4\n",
      "Anomaly Weight: 15\n"
     ]
    },
    {
     "name": "stderr",
     "output_type": "stream",
     "text": [
      "2025/09/02 15:59:55 WARNING mlflow.models.model: `artifact_path` is deprecated. Please use `name` instead.\n"
     ]
    },
    {
     "name": "stdout",
     "output_type": "stream",
     "text": [
      "AUC: 0.8940334835682489\n",
      "eval_acc: 0.9978969505783386\n"
     ]
    },
    {
     "name": "stderr",
     "output_type": "stream",
     "text": [
      "\u001b[31m2025/09/02 15:59:57 WARNING mlflow.models.model: Model logged without a signature and input example. Please set `input_example` parameter when logging the model to auto infer the model signature.\u001b[0m\n"
     ]
    },
    {
     "name": "stdout",
     "output_type": "stream",
     "text": [
      "🏃 View run treasured-fawn-417 at: http://localhost:8080/#/experiments/674565971350552763/runs/7b5bb652d78e474c9bdfc0277d954e22\n",
      "🧪 View experiment at: http://localhost:8080/#/experiments/674565971350552763\n",
      "----------------------------------------\n",
      "fold 5\n",
      "Anomaly Weight: 15\n"
     ]
    },
    {
     "name": "stderr",
     "output_type": "stream",
     "text": [
      "2025/09/02 15:59:58 WARNING mlflow.models.model: `artifact_path` is deprecated. Please use `name` instead.\n"
     ]
    },
    {
     "name": "stdout",
     "output_type": "stream",
     "text": [
      "AUC: 0.8813861631838532\n",
      "eval_acc: 0.9973711882229233\n"
     ]
    },
    {
     "name": "stderr",
     "output_type": "stream",
     "text": [
      "\u001b[31m2025/09/02 16:00:00 WARNING mlflow.models.model: Model logged without a signature and input example. Please set `input_example` parameter when logging the model to auto infer the model signature.\u001b[0m\n"
     ]
    },
    {
     "name": "stdout",
     "output_type": "stream",
     "text": [
      "🏃 View run wistful-tern-195 at: http://localhost:8080/#/experiments/674565971350552763/runs/bd651ea7ec8c4a93a205002bef5930a9\n",
      "🧪 View experiment at: http://localhost:8080/#/experiments/674565971350552763\n",
      "\n",
      "Averages: \n",
      "Accuracy:  0.9978970181373118\n",
      "AUC:  0.9212283479853886\n",
      "Best: \n",
      "Accuracy:  0.998422712933754\n",
      "AUC:  0.9751350672194998\n"
     ]
    }
   ],
   "source": [
    "mlflow.set_experiment(\"sklearn_creditcard_broad_search\") \n",
    "logs = []\n",
    "for f in range(len(anomaly_weights)):\n",
    "    fold = 1\n",
    "    accuracies = []\n",
    "    auc_scores= []\n",
    "    for train, test in kfold.split(x_validate, y_validate):\n",
    "        with mlflow.start_run():\n",
    "            weight = anomaly_weights[f] \n",
    "            mlflow.log_param(\"anomaly_weight\", weight)\n",
    "            class_weights= {0: 1,1: weight }\n",
    "            sk_model = LogisticRegression(random_state=None, max_iter=400,\n",
    "                                        solver='newton-cg',\n",
    "                                        class_weight=class_weights).fit(x_validate[train],y_validate[train])\n",
    "            for h in range(40): print('-', end=\"\") \n",
    "            print(f\"\\nfold {fold}\\nAnomaly Weight: {weight}\")\n",
    "            train_acc = sk_model.score(x_validate[train], y_validate[train])\n",
    "            mlflow.log_metric(\"train_acc\", train_acc)\n",
    "            eval_acc = sk_model.score(x_validate[test], y_validate[test])\n",
    "            preds = sk_model.predict(x_validate[test])\n",
    "            mlflow.log_metric(\"eval_acc\", eval_acc)\n",
    "\n",
    "            try:\n",
    "                auc_score = roc_auc_score(y_validate[test], preds)\n",
    "            except:\n",
    "                auc_score = -1\n",
    "            mlflow.log_metric(\"auc_score\", auc_score)\n",
    "            print(\"AUC: {}\\neval_acc: {}\".format(auc_score,\n",
    "            eval_acc))\n",
    "            accuracies.append(eval_acc)\n",
    "            auc_scores.append(auc_score)\n",
    "            log = [sk_model, x_validate[test],\n",
    "            y_validate[test], preds]\n",
    "            logs.append(log)\n",
    "            mlflow.sklearn.log_model(sk_model,\n",
    "            f\"anom_weight_{weight}_fold_{fold}\")\n",
    "            fold = fold + 1\n",
    "            mlflow.end_run()\n",
    "    print(\"\\nAverages: \")\n",
    "    print(\"Accuracy: \", np.mean(accuracies))\n",
    "    print(\"AUC: \", np.mean(auc_scores))\n",
    "    print(\"Best: \")\n",
    "    print(\"Accuracy: \", np.max(accuracies))\n",
    "    print(\"AUC: \", np.max(auc_scores))"
   ]
  },
  {
   "attachments": {},
   "cell_type": "markdown",
   "metadata": {},
   "source": [
    "### Guided Search"
   ]
  },
  {
   "cell_type": "code",
   "execution_count": 64,
   "metadata": {},
   "outputs": [],
   "source": [
    "anomaly_weights = [10, 50, 150, 200]\n",
    "num_folds = 5\n",
    "kfold = KFold(n_splits=num_folds, shuffle=True, random_state=2020)"
   ]
  },
  {
   "attachments": {},
   "cell_type": "markdown",
   "metadata": {},
   "source": [
    "Create a new experiment for this"
   ]
  },
  {
   "cell_type": "code",
   "execution_count": 65,
   "metadata": {},
   "outputs": [
    {
     "name": "stderr",
     "output_type": "stream",
     "text": [
      "2025/09/02 16:00:00 INFO mlflow.tracking.fluent: Experiment with name 'sklearn_creditcard_Guided_search' does not exist. Creating a new experiment.\n"
     ]
    },
    {
     "name": "stdout",
     "output_type": "stream",
     "text": [
      "----------------------------------------\n",
      "fold 1\n",
      "Anomaly Weight: 10\n"
     ]
    },
    {
     "name": "stderr",
     "output_type": "stream",
     "text": [
      "2025/09/02 16:00:01 WARNING mlflow.models.model: `artifact_path` is deprecated. Please use `name` instead.\n"
     ]
    },
    {
     "name": "stdout",
     "output_type": "stream",
     "text": [
      "AUC: 0.9243845612801126\n",
      "eval_acc: 0.9982477659015244\n"
     ]
    },
    {
     "name": "stderr",
     "output_type": "stream",
     "text": [
      "\u001b[31m2025/09/02 16:00:03 WARNING mlflow.models.model: Model logged without a signature and input example. Please set `input_example` parameter when logging the model to auto infer the model signature.\u001b[0m\n"
     ]
    },
    {
     "name": "stdout",
     "output_type": "stream",
     "text": [
      "🏃 View run aged-sponge-868 at: http://localhost:8080/#/experiments/828507851336961011/runs/548a7965b9444d8baf6e938bf0462d66\n",
      "🧪 View experiment at: http://localhost:8080/#/experiments/828507851336961011\n",
      "----------------------------------------\n",
      "fold 2\n",
      "Anomaly Weight: 10\n"
     ]
    },
    {
     "name": "stderr",
     "output_type": "stream",
     "text": [
      "2025/09/02 16:00:04 WARNING mlflow.models.model: `artifact_path` is deprecated. Please use `name` instead.\n"
     ]
    },
    {
     "name": "stdout",
     "output_type": "stream",
     "text": [
      "AUC: 0.9753109687146626\n",
      "eval_acc: 0.9980722046968104\n"
     ]
    },
    {
     "name": "stderr",
     "output_type": "stream",
     "text": [
      "\u001b[31m2025/09/02 16:00:06 WARNING mlflow.models.model: Model logged without a signature and input example. Please set `input_example` parameter when logging the model to auto infer the model signature.\u001b[0m\n"
     ]
    },
    {
     "name": "stdout",
     "output_type": "stream",
     "text": [
      "🏃 View run polite-sheep-71 at: http://localhost:8080/#/experiments/828507851336961011/runs/d0fdb9e0318b4a94a660edf9580e8fc3\n",
      "🧪 View experiment at: http://localhost:8080/#/experiments/828507851336961011\n",
      "----------------------------------------\n",
      "fold 3\n",
      "Anomaly Weight: 10\n"
     ]
    },
    {
     "name": "stderr",
     "output_type": "stream",
     "text": [
      "2025/09/02 16:00:07 WARNING mlflow.models.model: `artifact_path` is deprecated. Please use `name` instead.\n"
     ]
    },
    {
     "name": "stdout",
     "output_type": "stream",
     "text": [
      "AUC: 0.9313783507133262\n",
      "eval_acc: 0.9985979670522257\n"
     ]
    },
    {
     "name": "stderr",
     "output_type": "stream",
     "text": [
      "\u001b[31m2025/09/02 16:00:09 WARNING mlflow.models.model: Model logged without a signature and input example. Please set `input_example` parameter when logging the model to auto infer the model signature.\u001b[0m\n"
     ]
    },
    {
     "name": "stdout",
     "output_type": "stream",
     "text": [
      "🏃 View run judicious-crow-130 at: http://localhost:8080/#/experiments/828507851336961011/runs/fb59fe632cc946b88bd88a1565b1e1d0\n",
      "🧪 View experiment at: http://localhost:8080/#/experiments/828507851336961011\n",
      "----------------------------------------\n",
      "fold 4\n",
      "Anomaly Weight: 10\n"
     ]
    },
    {
     "name": "stderr",
     "output_type": "stream",
     "text": [
      "2025/09/02 16:00:10 WARNING mlflow.models.model: `artifact_path` is deprecated. Please use `name` instead.\n"
     ]
    },
    {
     "name": "stdout",
     "output_type": "stream",
     "text": [
      "AUC: 0.8943851628367561\n",
      "eval_acc: 0.9985979670522257\n"
     ]
    },
    {
     "name": "stderr",
     "output_type": "stream",
     "text": [
      "\u001b[31m2025/09/02 16:00:12 WARNING mlflow.models.model: Model logged without a signature and input example. Please set `input_example` parameter when logging the model to auto infer the model signature.\u001b[0m\n"
     ]
    },
    {
     "name": "stdout",
     "output_type": "stream",
     "text": [
      "🏃 View run bemused-shrew-925 at: http://localhost:8080/#/experiments/828507851336961011/runs/557fae12db3e4b48a6f3153fd23bbd07\n",
      "🧪 View experiment at: http://localhost:8080/#/experiments/828507851336961011\n",
      "----------------------------------------\n",
      "fold 5\n",
      "Anomaly Weight: 10\n"
     ]
    },
    {
     "name": "stderr",
     "output_type": "stream",
     "text": [
      "2025/09/02 16:00:13 WARNING mlflow.models.model: `artifact_path` is deprecated. Please use `name` instead.\n"
     ]
    },
    {
     "name": "stdout",
     "output_type": "stream",
     "text": [
      "AUC: 0.8820013855427915\n",
      "eval_acc: 0.9985979670522257\n"
     ]
    },
    {
     "name": "stderr",
     "output_type": "stream",
     "text": [
      "\u001b[31m2025/09/02 16:00:15 WARNING mlflow.models.model: Model logged without a signature and input example. Please set `input_example` parameter when logging the model to auto infer the model signature.\u001b[0m\n"
     ]
    },
    {
     "name": "stdout",
     "output_type": "stream",
     "text": [
      "🏃 View run delicate-wolf-200 at: http://localhost:8080/#/experiments/828507851336961011/runs/6ad065dfbcc84d6e884155537e5bc8a9\n",
      "🧪 View experiment at: http://localhost:8080/#/experiments/828507851336961011\n",
      "\n",
      "Averages: \n",
      "Accuracy:  0.9984227743510024\n",
      "AUC:  0.9214920858175297\n",
      "Best: \n",
      "Accuracy:  0.9985979670522257\n",
      "AUC:  0.9753109687146626\n",
      "----------------------------------------\n",
      "fold 1\n",
      "Anomaly Weight: 50\n"
     ]
    },
    {
     "name": "stderr",
     "output_type": "stream",
     "text": [
      "2025/09/02 16:00:16 WARNING mlflow.models.model: `artifact_path` is deprecated. Please use `name` instead.\n"
     ]
    },
    {
     "name": "stdout",
     "output_type": "stream",
     "text": [
      "AUC: 0.922626164937577\n",
      "eval_acc: 0.9947432977045734\n"
     ]
    },
    {
     "name": "stderr",
     "output_type": "stream",
     "text": [
      "\u001b[31m2025/09/02 16:00:19 WARNING mlflow.models.model: Model logged without a signature and input example. Please set `input_example` parameter when logging the model to auto infer the model signature.\u001b[0m\n"
     ]
    },
    {
     "name": "stdout",
     "output_type": "stream",
     "text": [
      "🏃 View run bald-smelt-862 at: http://localhost:8080/#/experiments/828507851336961011/runs/2f3efb0ea4744033b3fdee4fdc8504be\n",
      "🧪 View experiment at: http://localhost:8080/#/experiments/828507851336961011\n",
      "----------------------------------------\n",
      "fold 2\n",
      "Anomaly Weight: 50\n"
     ]
    },
    {
     "name": "stderr",
     "output_type": "stream",
     "text": [
      "2025/09/02 16:00:20 WARNING mlflow.models.model: `artifact_path` is deprecated. Please use `name` instead.\n"
     ]
    },
    {
     "name": "stdout",
     "output_type": "stream",
     "text": [
      "AUC: 0.9734640030154541\n",
      "eval_acc: 0.9943918682089029\n"
     ]
    },
    {
     "name": "stderr",
     "output_type": "stream",
     "text": [
      "\u001b[31m2025/09/02 16:00:21 WARNING mlflow.models.model: Model logged without a signature and input example. Please set `input_example` parameter when logging the model to auto infer the model signature.\u001b[0m\n"
     ]
    },
    {
     "name": "stdout",
     "output_type": "stream",
     "text": [
      "🏃 View run unruly-toad-393 at: http://localhost:8080/#/experiments/828507851336961011/runs/03f8b07e68a7483fb08ed5342e43aa1c\n",
      "🧪 View experiment at: http://localhost:8080/#/experiments/828507851336961011\n",
      "----------------------------------------\n",
      "fold 3\n",
      "Anomaly Weight: 50\n"
     ]
    },
    {
     "name": "stderr",
     "output_type": "stream",
     "text": [
      "2025/09/02 16:00:22 WARNING mlflow.models.model: `artifact_path` is deprecated. Please use `name` instead.\n"
     ]
    },
    {
     "name": "stdout",
     "output_type": "stream",
     "text": [
      "AUC: 0.9297069925148743\n",
      "eval_acc: 0.9952681388012619\n"
     ]
    },
    {
     "name": "stderr",
     "output_type": "stream",
     "text": [
      "\u001b[31m2025/09/02 16:00:25 WARNING mlflow.models.model: Model logged without a signature and input example. Please set `input_example` parameter when logging the model to auto infer the model signature.\u001b[0m\n"
     ]
    },
    {
     "name": "stdout",
     "output_type": "stream",
     "text": [
      "🏃 View run placid-trout-643 at: http://localhost:8080/#/experiments/828507851336961011/runs/fecb0b228ff741a7a25c5c2b33ff5b74\n",
      "🧪 View experiment at: http://localhost:8080/#/experiments/828507851336961011\n",
      "----------------------------------------\n",
      "fold 4\n",
      "Anomaly Weight: 50\n"
     ]
    },
    {
     "name": "stderr",
     "output_type": "stream",
     "text": [
      "2025/09/02 16:00:26 WARNING mlflow.models.model: `artifact_path` is deprecated. Please use `name` instead.\n"
     ]
    },
    {
     "name": "stdout",
     "output_type": "stream",
     "text": [
      "AUC: 0.9183271172480171\n",
      "eval_acc: 0.9940413599719593\n"
     ]
    },
    {
     "name": "stderr",
     "output_type": "stream",
     "text": [
      "\u001b[31m2025/09/02 16:00:28 WARNING mlflow.models.model: Model logged without a signature and input example. Please set `input_example` parameter when logging the model to auto infer the model signature.\u001b[0m\n"
     ]
    },
    {
     "name": "stdout",
     "output_type": "stream",
     "text": [
      "🏃 View run upset-rat-915 at: http://localhost:8080/#/experiments/828507851336961011/runs/98118915c33f4a458b95028513acbb06\n",
      "🧪 View experiment at: http://localhost:8080/#/experiments/828507851336961011\n",
      "----------------------------------------\n",
      "fold 5\n",
      "Anomaly Weight: 50\n"
     ]
    },
    {
     "name": "stderr",
     "output_type": "stream",
     "text": [
      "2025/09/02 16:00:29 WARNING mlflow.models.model: `artifact_path` is deprecated. Please use `name` instead.\n"
     ]
    },
    {
     "name": "stdout",
     "output_type": "stream",
     "text": [
      "AUC: 0.8797162739238779\n",
      "eval_acc: 0.9940413599719593\n"
     ]
    },
    {
     "name": "stderr",
     "output_type": "stream",
     "text": [
      "\u001b[31m2025/09/02 16:00:31 WARNING mlflow.models.model: Model logged without a signature and input example. Please set `input_example` parameter when logging the model to auto infer the model signature.\u001b[0m\n"
     ]
    },
    {
     "name": "stdout",
     "output_type": "stream",
     "text": [
      "🏃 View run debonair-ant-43 at: http://localhost:8080/#/experiments/828507851336961011/runs/c4d41911caa34d8b9d23151270602876\n",
      "🧪 View experiment at: http://localhost:8080/#/experiments/828507851336961011\n",
      "\n",
      "Averages: \n",
      "Accuracy:  0.9944972049317313\n",
      "AUC:  0.92476811032796\n",
      "Best: \n",
      "Accuracy:  0.9952681388012619\n",
      "AUC:  0.9734640030154541\n",
      "----------------------------------------\n",
      "fold 1\n",
      "Anomaly Weight: 150\n"
     ]
    },
    {
     "name": "stderr",
     "output_type": "stream",
     "text": [
      "2025/09/02 16:00:32 WARNING mlflow.models.model: `artifact_path` is deprecated. Please use `name` instead.\n"
     ]
    },
    {
     "name": "stdout",
     "output_type": "stream",
     "text": [
      "AUC: 0.9185818533497451\n",
      "eval_acc: 0.9866830208515858\n"
     ]
    },
    {
     "name": "stderr",
     "output_type": "stream",
     "text": [
      "\u001b[31m2025/09/02 16:00:34 WARNING mlflow.models.model: Model logged without a signature and input example. Please set `input_example` parameter when logging the model to auto infer the model signature.\u001b[0m\n"
     ]
    },
    {
     "name": "stdout",
     "output_type": "stream",
     "text": [
      "🏃 View run caring-vole-363 at: http://localhost:8080/#/experiments/828507851336961011/runs/328d80fdd1df4abba159ffb7fbde5c29\n",
      "🧪 View experiment at: http://localhost:8080/#/experiments/828507851336961011\n",
      "----------------------------------------\n",
      "fold 2\n",
      "Anomaly Weight: 150\n"
     ]
    },
    {
     "name": "stderr",
     "output_type": "stream",
     "text": [
      "2025/09/02 16:00:35 WARNING mlflow.models.model: `artifact_path` is deprecated. Please use `name` instead.\n"
     ]
    },
    {
     "name": "stdout",
     "output_type": "stream",
     "text": [
      "AUC: 0.9927000879507476\n",
      "eval_acc: 0.985453908166842\n"
     ]
    },
    {
     "name": "stderr",
     "output_type": "stream",
     "text": [
      "\u001b[31m2025/09/02 16:00:37 WARNING mlflow.models.model: Model logged without a signature and input example. Please set `input_example` parameter when logging the model to auto infer the model signature.\u001b[0m\n"
     ]
    },
    {
     "name": "stdout",
     "output_type": "stream",
     "text": [
      "🏃 View run bemused-perch-948 at: http://localhost:8080/#/experiments/828507851336961011/runs/a88bc3ff63d3444cb4ac50817eb1eda5\n",
      "🧪 View experiment at: http://localhost:8080/#/experiments/828507851336961011\n",
      "----------------------------------------\n",
      "fold 3\n",
      "Anomaly Weight: 150\n"
     ]
    },
    {
     "name": "stderr",
     "output_type": "stream",
     "text": [
      "2025/09/02 16:00:38 WARNING mlflow.models.model: `artifact_path` is deprecated. Please use `name` instead.\n"
     ]
    },
    {
     "name": "stdout",
     "output_type": "stream",
     "text": [
      "AUC: 0.9247808841404901\n",
      "eval_acc: 0.985453908166842\n"
     ]
    },
    {
     "name": "stderr",
     "output_type": "stream",
     "text": [
      "\u001b[31m2025/09/02 16:00:40 WARNING mlflow.models.model: Model logged without a signature and input example. Please set `input_example` parameter when logging the model to auto infer the model signature.\u001b[0m\n"
     ]
    },
    {
     "name": "stdout",
     "output_type": "stream",
     "text": [
      "🏃 View run enchanting-cub-811 at: http://localhost:8080/#/experiments/828507851336961011/runs/6baf4f67f5b1427b8c699699da0ffa22\n",
      "🧪 View experiment at: http://localhost:8080/#/experiments/828507851336961011\n",
      "----------------------------------------\n",
      "fold 4\n",
      "Anomaly Weight: 150\n"
     ]
    },
    {
     "name": "stderr",
     "output_type": "stream",
     "text": [
      "2025/09/02 16:00:41 WARNING mlflow.models.model: `artifact_path` is deprecated. Please use `name` instead.\n"
     ]
    },
    {
     "name": "stdout",
     "output_type": "stream",
     "text": [
      "AUC: 0.9411261140366303\n",
      "eval_acc: 0.9872064493515598\n"
     ]
    },
    {
     "name": "stderr",
     "output_type": "stream",
     "text": [
      "\u001b[31m2025/09/02 16:00:43 WARNING mlflow.models.model: Model logged without a signature and input example. Please set `input_example` parameter when logging the model to auto infer the model signature.\u001b[0m\n"
     ]
    },
    {
     "name": "stdout",
     "output_type": "stream",
     "text": [
      "🏃 View run upset-robin-427 at: http://localhost:8080/#/experiments/828507851336961011/runs/00b1edd9fe454b3ba8a184c71d244d70\n",
      "🧪 View experiment at: http://localhost:8080/#/experiments/828507851336961011\n",
      "----------------------------------------\n",
      "fold 5\n",
      "Anomaly Weight: 150\n"
     ]
    },
    {
     "name": "stderr",
     "output_type": "stream",
     "text": [
      "2025/09/02 16:00:44 WARNING mlflow.models.model: `artifact_path` is deprecated. Please use `name` instead.\n"
     ]
    },
    {
     "name": "stdout",
     "output_type": "stream",
     "text": [
      "AUC: 0.9054367044761303\n",
      "eval_acc: 0.9868559411146162\n"
     ]
    },
    {
     "name": "stderr",
     "output_type": "stream",
     "text": [
      "\u001b[31m2025/09/02 16:00:46 WARNING mlflow.models.model: Model logged without a signature and input example. Please set `input_example` parameter when logging the model to auto infer the model signature.\u001b[0m\n"
     ]
    },
    {
     "name": "stdout",
     "output_type": "stream",
     "text": [
      "🏃 View run thoughtful-snake-949 at: http://localhost:8080/#/experiments/828507851336961011/runs/8a77a3bfd89940729f91e24ce15858f0\n",
      "🧪 View experiment at: http://localhost:8080/#/experiments/828507851336961011\n",
      "\n",
      "Averages: \n",
      "Accuracy:  0.986330645530289\n",
      "AUC:  0.9365251287907487\n",
      "Best: \n",
      "Accuracy:  0.9872064493515598\n",
      "AUC:  0.9927000879507476\n",
      "----------------------------------------\n",
      "fold 1\n",
      "Anomaly Weight: 200\n"
     ]
    },
    {
     "name": "stderr",
     "output_type": "stream",
     "text": [
      "2025/09/02 16:00:47 WARNING mlflow.models.model: `artifact_path` is deprecated. Please use `name` instead.\n"
     ]
    },
    {
     "name": "stdout",
     "output_type": "stream",
     "text": [
      "AUC: 0.9427026551784772\n",
      "eval_acc: 0.9851060101629577\n"
     ]
    },
    {
     "name": "stderr",
     "output_type": "stream",
     "text": [
      "\u001b[31m2025/09/02 16:00:49 WARNING mlflow.models.model: Model logged without a signature and input example. Please set `input_example` parameter when logging the model to auto infer the model signature.\u001b[0m\n"
     ]
    },
    {
     "name": "stdout",
     "output_type": "stream",
     "text": [
      "🏃 View run resilient-bug-148 at: http://localhost:8080/#/experiments/828507851336961011/runs/4b30bbcc6d604050984e8c3318cb3a51\n",
      "🧪 View experiment at: http://localhost:8080/#/experiments/828507851336961011\n",
      "----------------------------------------\n",
      "fold 2\n",
      "Anomaly Weight: 200\n"
     ]
    },
    {
     "name": "stderr",
     "output_type": "stream",
     "text": [
      "2025/09/02 16:00:50 WARNING mlflow.models.model: `artifact_path` is deprecated. Please use `name` instead.\n"
     ]
    },
    {
     "name": "stdout",
     "output_type": "stream",
     "text": [
      "AUC: 0.9904133685136324\n",
      "eval_acc: 0.9808973010865756\n"
     ]
    },
    {
     "name": "stderr",
     "output_type": "stream",
     "text": [
      "\u001b[31m2025/09/02 16:00:52 WARNING mlflow.models.model: Model logged without a signature and input example. Please set `input_example` parameter when logging the model to auto infer the model signature.\u001b[0m\n"
     ]
    },
    {
     "name": "stdout",
     "output_type": "stream",
     "text": [
      "🏃 View run resilient-quail-523 at: http://localhost:8080/#/experiments/828507851336961011/runs/d1a8892cb47e40bdbd4c71a63d994c6f\n",
      "🧪 View experiment at: http://localhost:8080/#/experiments/828507851336961011\n",
      "----------------------------------------\n",
      "fold 3\n",
      "Anomaly Weight: 200\n"
     ]
    },
    {
     "name": "stderr",
     "output_type": "stream",
     "text": [
      "2025/09/02 16:00:53 WARNING mlflow.models.model: `artifact_path` is deprecated. Please use `name` instead.\n"
     ]
    },
    {
     "name": "stdout",
     "output_type": "stream",
     "text": [
      "AUC: 0.9225817286162115\n",
      "eval_acc: 0.9810725552050473\n"
     ]
    },
    {
     "name": "stderr",
     "output_type": "stream",
     "text": [
      "\u001b[31m2025/09/02 16:00:55 WARNING mlflow.models.model: Model logged without a signature and input example. Please set `input_example` parameter when logging the model to auto infer the model signature.\u001b[0m\n"
     ]
    },
    {
     "name": "stdout",
     "output_type": "stream",
     "text": [
      "🏃 View run painted-wren-260 at: http://localhost:8080/#/experiments/828507851336961011/runs/9aaf1444733b48acb058153195f49d76\n",
      "🧪 View experiment at: http://localhost:8080/#/experiments/828507851336961011\n",
      "----------------------------------------\n",
      "fold 4\n",
      "Anomaly Weight: 200\n"
     ]
    },
    {
     "name": "stderr",
     "output_type": "stream",
     "text": [
      "2025/09/02 16:00:56 WARNING mlflow.models.model: `artifact_path` is deprecated. Please use `name` instead.\n"
     ]
    },
    {
     "name": "stdout",
     "output_type": "stream",
     "text": [
      "AUC: 0.9391039582427143\n",
      "eval_acc: 0.9831756046267087\n"
     ]
    },
    {
     "name": "stderr",
     "output_type": "stream",
     "text": [
      "\u001b[31m2025/09/02 16:00:58 WARNING mlflow.models.model: Model logged without a signature and input example. Please set `input_example` parameter when logging the model to auto infer the model signature.\u001b[0m\n"
     ]
    },
    {
     "name": "stdout",
     "output_type": "stream",
     "text": [
      "🏃 View run thoughtful-mole-241 at: http://localhost:8080/#/experiments/828507851336961011/runs/b18008c2a9d242fe8f5b3daeedbb35cb\n",
      "🧪 View experiment at: http://localhost:8080/#/experiments/828507851336961011\n",
      "----------------------------------------\n",
      "fold 5\n",
      "Anomaly Weight: 200\n"
     ]
    },
    {
     "name": "stderr",
     "output_type": "stream",
     "text": [
      "2025/09/02 16:00:59 WARNING mlflow.models.model: `artifact_path` is deprecated. Please use `name` instead.\n"
     ]
    },
    {
     "name": "stdout",
     "output_type": "stream",
     "text": [
      "AUC: 0.9029758150403772\n",
      "eval_acc: 0.9819488257974063\n"
     ]
    },
    {
     "name": "stderr",
     "output_type": "stream",
     "text": [
      "\u001b[31m2025/09/02 16:01:01 WARNING mlflow.models.model: Model logged without a signature and input example. Please set `input_example` parameter when logging the model to auto infer the model signature.\u001b[0m\n"
     ]
    },
    {
     "name": "stdout",
     "output_type": "stream",
     "text": [
      "🏃 View run awesome-snail-382 at: http://localhost:8080/#/experiments/828507851336961011/runs/12e079cd4c604f63ae7f93160444f1d2\n",
      "🧪 View experiment at: http://localhost:8080/#/experiments/828507851336961011\n",
      "\n",
      "Averages: \n",
      "Accuracy:  0.9824400593757392\n",
      "AUC:  0.9395555051182825\n",
      "Best: \n",
      "Accuracy:  0.9851060101629577\n",
      "AUC:  0.9904133685136324\n"
     ]
    }
   ],
   "source": [
    "mlflow.set_experiment(\"sklearn_creditcard_Guided_search\") \n",
    "logs = []\n",
    "for f in range(len(anomaly_weights)):\n",
    "    fold = 1\n",
    "    accuracies = []\n",
    "    auc_scores= []\n",
    "    for train, test in kfold.split(x_validate, y_validate):\n",
    "        with mlflow.start_run():\n",
    "            weight = anomaly_weights[f] \n",
    "            mlflow.log_param(\"anomaly_weight\", weight)\n",
    "            class_weights= {0: 1,1: weight }\n",
    "            sk_model = LogisticRegression(random_state=None, max_iter=400,\n",
    "                                        solver='newton-cg',\n",
    "                                        class_weight=class_weights).fit(x_validate[train],y_validate[train])\n",
    "            for h in range(40): print('-', end=\"\") \n",
    "            print(f\"\\nfold {fold}\\nAnomaly Weight: {weight}\")\n",
    "            train_acc = sk_model.score(x_validate[train], y_validate[train])\n",
    "            mlflow.log_metric(\"train_acc\", train_acc)\n",
    "            eval_acc = sk_model.score(x_validate[test], y_validate[test])\n",
    "            preds = sk_model.predict(x_validate[test])\n",
    "            mlflow.log_metric(\"eval_acc\", eval_acc)\n",
    "\n",
    "            try:\n",
    "                auc_score = roc_auc_score(y_validate[test], preds)\n",
    "            except:\n",
    "                auc_score = -1\n",
    "            mlflow.log_metric(\"auc_score\", auc_score)\n",
    "            print(\"AUC: {}\\neval_acc: {}\".format(auc_score,\n",
    "            eval_acc))\n",
    "            accuracies.append(eval_acc)\n",
    "            auc_scores.append(auc_score)\n",
    "            log = [sk_model, x_validate[test],\n",
    "            y_validate[test], preds]\n",
    "            logs.append(log)\n",
    "            mlflow.sklearn.log_model(sk_model,\n",
    "            f\"anom_weight_{weight}_fold_{fold}\")\n",
    "            fold = fold + 1\n",
    "            mlflow.end_run()\n",
    "    print(\"\\nAverages: \")\n",
    "    print(\"Accuracy: \", np.mean(accuracies))\n",
    "    print(\"AUC: \", np.mean(auc_scores))\n",
    "    print(\"Best: \")\n",
    "    print(\"Accuracy: \", np.max(accuracies))\n",
    "    print(\"AUC: \", np.max(auc_scores))"
   ]
  }
 ],
 "metadata": {
  "kernelspec": {
   "display_name": "mlflow_env",
   "language": "python",
   "name": "python3"
  },
  "language_info": {
   "codemirror_mode": {
    "name": "ipython",
    "version": 3
   },
   "file_extension": ".py",
   "mimetype": "text/x-python",
   "name": "python",
   "nbconvert_exporter": "python",
   "pygments_lexer": "ipython3",
   "version": "3.12.3"
  },
  "orig_nbformat": 4
 },
 "nbformat": 4,
 "nbformat_minor": 2
}
